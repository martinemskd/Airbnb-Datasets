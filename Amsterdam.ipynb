{
 "cells": [
  {
   "cell_type": "code",
   "execution_count": 18,
   "metadata": {},
   "outputs": [],
   "source": [
    "import pandas as pd\n",
    "import numpy as np"
   ]
  },
  {
   "cell_type": "code",
   "execution_count": 19,
   "metadata": {},
   "outputs": [],
   "source": [
    "listings = pd.read_csv('listings.csv')"
   ]
  },
  {
   "cell_type": "code",
   "execution_count": 20,
   "metadata": {},
   "outputs": [
    {
     "data": {
      "text/plain": [
       "(10032, 18)"
      ]
     },
     "execution_count": 20,
     "metadata": {},
     "output_type": "execute_result"
    }
   ],
   "source": [
    "#Gives the number of ligns and columns\n",
    "listings.shape"
   ]
  },
  {
   "cell_type": "code",
   "execution_count": 21,
   "metadata": {},
   "outputs": [
    {
     "data": {
      "text/html": [
       "<div>\n",
       "<style scoped>\n",
       "    .dataframe tbody tr th:only-of-type {\n",
       "        vertical-align: middle;\n",
       "    }\n",
       "\n",
       "    .dataframe tbody tr th {\n",
       "        vertical-align: top;\n",
       "    }\n",
       "\n",
       "    .dataframe thead th {\n",
       "        text-align: right;\n",
       "    }\n",
       "</style>\n",
       "<table border=\"1\" class=\"dataframe\">\n",
       "  <thead>\n",
       "    <tr style=\"text-align: right;\">\n",
       "      <th></th>\n",
       "      <th>id</th>\n",
       "      <th>name</th>\n",
       "      <th>host_id</th>\n",
       "      <th>host_name</th>\n",
       "      <th>neighbourhood_group</th>\n",
       "      <th>neighbourhood</th>\n",
       "      <th>latitude</th>\n",
       "      <th>longitude</th>\n",
       "      <th>room_type</th>\n",
       "      <th>price</th>\n",
       "      <th>minimum_nights</th>\n",
       "      <th>number_of_reviews</th>\n",
       "      <th>last_review</th>\n",
       "      <th>reviews_per_month</th>\n",
       "      <th>calculated_host_listings_count</th>\n",
       "      <th>availability_365</th>\n",
       "      <th>number_of_reviews_ltm</th>\n",
       "      <th>license</th>\n",
       "    </tr>\n",
       "  </thead>\n",
       "  <tbody>\n",
       "    <tr>\n",
       "      <th>0</th>\n",
       "      <td>290701</td>\n",
       "      <td>Central, big window, rear room with private bath.</td>\n",
       "      <td>1491565</td>\n",
       "      <td>David</td>\n",
       "      <td>NaN</td>\n",
       "      <td>Centrum-West</td>\n",
       "      <td>52.37561</td>\n",
       "      <td>4.90000</td>\n",
       "      <td>Private room</td>\n",
       "      <td>134.0</td>\n",
       "      <td>3</td>\n",
       "      <td>475</td>\n",
       "      <td>2024-12-03</td>\n",
       "      <td>3.05</td>\n",
       "      <td>2</td>\n",
       "      <td>207</td>\n",
       "      <td>38</td>\n",
       "      <td>0363 DF01 FBC0 496B 9730</td>\n",
       "    </tr>\n",
       "    <tr>\n",
       "      <th>1</th>\n",
       "      <td>291752</td>\n",
       "      <td>Cozy &amp; large bohemian style room</td>\n",
       "      <td>1511330</td>\n",
       "      <td>Ton</td>\n",
       "      <td>NaN</td>\n",
       "      <td>Oud-Oost</td>\n",
       "      <td>52.35179</td>\n",
       "      <td>4.91082</td>\n",
       "      <td>Private room</td>\n",
       "      <td>155.0</td>\n",
       "      <td>3</td>\n",
       "      <td>271</td>\n",
       "      <td>2024-10-09</td>\n",
       "      <td>1.72</td>\n",
       "      <td>1</td>\n",
       "      <td>334</td>\n",
       "      <td>18</td>\n",
       "      <td>0363 6ACC BA1B 12A9 60C1</td>\n",
       "    </tr>\n",
       "    <tr>\n",
       "      <th>2</th>\n",
       "      <td>304082</td>\n",
       "      <td>Private, quiet studio in the centre with terrace</td>\n",
       "      <td>276068</td>\n",
       "      <td>Mirre</td>\n",
       "      <td>NaN</td>\n",
       "      <td>Centrum-West</td>\n",
       "      <td>52.37191</td>\n",
       "      <td>4.89708</td>\n",
       "      <td>Entire home/apt</td>\n",
       "      <td>117.0</td>\n",
       "      <td>3</td>\n",
       "      <td>333</td>\n",
       "      <td>2024-11-06</td>\n",
       "      <td>2.15</td>\n",
       "      <td>1</td>\n",
       "      <td>247</td>\n",
       "      <td>51</td>\n",
       "      <td>0363 6C40 7413 ADD3 9AF8</td>\n",
       "    </tr>\n",
       "    <tr>\n",
       "      <th>3</th>\n",
       "      <td>304143</td>\n",
       "      <td>Unique Beautiful Houseboat (ship)</td>\n",
       "      <td>1565319</td>\n",
       "      <td>Dick</td>\n",
       "      <td>NaN</td>\n",
       "      <td>Oud-Oost</td>\n",
       "      <td>52.36230</td>\n",
       "      <td>4.92028</td>\n",
       "      <td>Entire home/apt</td>\n",
       "      <td>NaN</td>\n",
       "      <td>28</td>\n",
       "      <td>50</td>\n",
       "      <td>2020-03-07</td>\n",
       "      <td>0.32</td>\n",
       "      <td>1</td>\n",
       "      <td>0</td>\n",
       "      <td>0</td>\n",
       "      <td>0363AF9644094CEBCE6B</td>\n",
       "    </tr>\n",
       "    <tr>\n",
       "      <th>4</th>\n",
       "      <td>306852</td>\n",
       "      <td>SunShine, A Sunny Amsterdam Center Special</td>\n",
       "      <td>1141485</td>\n",
       "      <td>Gisèle And Simon</td>\n",
       "      <td>NaN</td>\n",
       "      <td>Centrum-Oost</td>\n",
       "      <td>52.35931</td>\n",
       "      <td>4.89844</td>\n",
       "      <td>Entire home/apt</td>\n",
       "      <td>NaN</td>\n",
       "      <td>4</td>\n",
       "      <td>32</td>\n",
       "      <td>2023-04-01</td>\n",
       "      <td>0.21</td>\n",
       "      <td>3</td>\n",
       "      <td>0</td>\n",
       "      <td>0</td>\n",
       "      <td>0363 33C3 B936 3911 FC42</td>\n",
       "    </tr>\n",
       "  </tbody>\n",
       "</table>\n",
       "</div>"
      ],
      "text/plain": [
       "       id                                               name  host_id  \\\n",
       "0  290701  Central, big window, rear room with private bath.  1491565   \n",
       "1  291752                   Cozy & large bohemian style room  1511330   \n",
       "2  304082   Private, quiet studio in the centre with terrace   276068   \n",
       "3  304143                  Unique Beautiful Houseboat (ship)  1565319   \n",
       "4  306852         SunShine, A Sunny Amsterdam Center Special  1141485   \n",
       "\n",
       "          host_name  neighbourhood_group neighbourhood  latitude  longitude  \\\n",
       "0             David                  NaN  Centrum-West  52.37561    4.90000   \n",
       "1               Ton                  NaN      Oud-Oost  52.35179    4.91082   \n",
       "2             Mirre                  NaN  Centrum-West  52.37191    4.89708   \n",
       "3              Dick                  NaN      Oud-Oost  52.36230    4.92028   \n",
       "4  Gisèle And Simon                  NaN  Centrum-Oost  52.35931    4.89844   \n",
       "\n",
       "         room_type  price  minimum_nights  number_of_reviews last_review  \\\n",
       "0     Private room  134.0               3                475  2024-12-03   \n",
       "1     Private room  155.0               3                271  2024-10-09   \n",
       "2  Entire home/apt  117.0               3                333  2024-11-06   \n",
       "3  Entire home/apt    NaN              28                 50  2020-03-07   \n",
       "4  Entire home/apt    NaN               4                 32  2023-04-01   \n",
       "\n",
       "   reviews_per_month  calculated_host_listings_count  availability_365  \\\n",
       "0               3.05                               2               207   \n",
       "1               1.72                               1               334   \n",
       "2               2.15                               1               247   \n",
       "3               0.32                               1                 0   \n",
       "4               0.21                               3                 0   \n",
       "\n",
       "   number_of_reviews_ltm                   license  \n",
       "0                     38  0363 DF01 FBC0 496B 9730  \n",
       "1                     18  0363 6ACC BA1B 12A9 60C1  \n",
       "2                     51  0363 6C40 7413 ADD3 9AF8  \n",
       "3                      0      0363AF9644094CEBCE6B  \n",
       "4                      0  0363 33C3 B936 3911 FC42  "
      ]
     },
     "execution_count": 21,
     "metadata": {},
     "output_type": "execute_result"
    }
   ],
   "source": [
    "listings.head(5)"
   ]
  },
  {
   "cell_type": "code",
   "execution_count": 22,
   "metadata": {},
   "outputs": [
    {
     "data": {
      "text/plain": [
       "Index(['id', 'name', 'host_id', 'host_name', 'neighbourhood_group',\n",
       "       'neighbourhood', 'latitude', 'longitude', 'room_type', 'price',\n",
       "       'minimum_nights', 'number_of_reviews', 'last_review',\n",
       "       'reviews_per_month', 'calculated_host_listings_count',\n",
       "       'availability_365', 'number_of_reviews_ltm', 'license'],\n",
       "      dtype='object')"
      ]
     },
     "execution_count": 22,
     "metadata": {},
     "output_type": "execute_result"
    }
   ],
   "source": [
    "listings.columns"
   ]
  },
  {
   "cell_type": "code",
   "execution_count": 23,
   "metadata": {},
   "outputs": [
    {
     "data": {
      "text/plain": [
       "id                                  int64\n",
       "name                               object\n",
       "host_id                             int64\n",
       "host_name                          object\n",
       "neighbourhood_group               float64\n",
       "neighbourhood                      object\n",
       "latitude                          float64\n",
       "longitude                         float64\n",
       "room_type                          object\n",
       "price                             float64\n",
       "minimum_nights                      int64\n",
       "number_of_reviews                   int64\n",
       "last_review                        object\n",
       "reviews_per_month                 float64\n",
       "calculated_host_listings_count      int64\n",
       "availability_365                    int64\n",
       "number_of_reviews_ltm               int64\n",
       "license                            object\n",
       "dtype: object"
      ]
     },
     "execution_count": 23,
     "metadata": {},
     "output_type": "execute_result"
    }
   ],
   "source": [
    "listings.dtypes"
   ]
  },
  {
   "cell_type": "code",
   "execution_count": 24,
   "metadata": {},
   "outputs": [
    {
     "name": "stdout",
     "output_type": "stream",
     "text": [
      "n\\Missing values per columns:\n",
      "id                                    0\n",
      "name                                  0\n",
      "host_id                               0\n",
      "host_name                             0\n",
      "neighbourhood_group               10032\n",
      "neighbourhood                         0\n",
      "latitude                              0\n",
      "longitude                             0\n",
      "room_type                             0\n",
      "price                              3742\n",
      "minimum_nights                        0\n",
      "number_of_reviews                     0\n",
      "last_review                        1090\n",
      "reviews_per_month                  1090\n",
      "calculated_host_listings_count        0\n",
      "availability_365                      0\n",
      "number_of_reviews_ltm                 0\n",
      "license                              94\n",
      "dtype: int64\n"
     ]
    }
   ],
   "source": [
    "print(\"n\\Missing values per columns:\")\n",
    "print(listings.isnull().sum())"
   ]
  },
  {
   "cell_type": "code",
   "execution_count": 25,
   "metadata": {},
   "outputs": [
    {
     "data": {
      "text/plain": [
       "0       2024-12-03\n",
       "1       2024-10-09\n",
       "2       2024-11-06\n",
       "3       2020-03-07\n",
       "4       2023-04-01\n",
       "           ...    \n",
       "10027          NaT\n",
       "10028          NaT\n",
       "10029          NaT\n",
       "10030          NaT\n",
       "10031          NaT\n",
       "Name: last_review, Length: 10032, dtype: datetime64[ns]"
      ]
     },
     "execution_count": 25,
     "metadata": {},
     "output_type": "execute_result"
    }
   ],
   "source": [
    "#Convert date column to date time\n",
    "pd.to_datetime(listings['last_review'], errors ='coerce')"
   ]
  },
  {
   "cell_type": "code",
   "execution_count": 26,
   "metadata": {},
   "outputs": [
    {
     "name": "stdout",
     "output_type": "stream",
     "text": [
      "\n",
      " Percentage of missing values:\n",
      "neighbourhood_group    100.0\n",
      "price                   37.0\n",
      "last_review             11.0\n",
      "reviews_per_month       11.0\n",
      "license                  1.0\n",
      "dtype: float64\n"
     ]
    }
   ],
   "source": [
    "#Calculate the percentage of missing values\n",
    "print(\"\\n Percentage of missing values:\")\n",
    "perc = round(listings.isnull().sum() /len(listings), 2) *100\n",
    "\n",
    "#Filter and display the columns with missing values\n",
    "missing_columns = perc[perc > 0]\n",
    "print(missing_columns)"
   ]
  },
  {
   "cell_type": "code",
   "execution_count": 27,
   "metadata": {},
   "outputs": [],
   "source": [
    "#Drop columns with >50% of missing values\n",
    "listings = listings.drop(columns=['neighbourhood_group'])"
   ]
  },
  {
   "cell_type": "code",
   "execution_count": null,
   "metadata": {},
   "outputs": [],
   "source": []
  },
  {
   "cell_type": "code",
   "execution_count": 28,
   "metadata": {},
   "outputs": [],
   "source": [
    "listings['price'] = listings['price'].replace('[\\€,]', '', regex = True).astype(float)"
   ]
  },
  {
   "cell_type": "code",
   "execution_count": 29,
   "metadata": {},
   "outputs": [],
   "source": [
    "listings['price'] = listings['price'].fillna(listings['price'].median())"
   ]
  },
  {
   "cell_type": "code",
   "execution_count": 30,
   "metadata": {},
   "outputs": [
    {
     "name": "stdout",
     "output_type": "stream",
     "text": [
      "\n",
      "Missing values after imputation:\n",
      "id                                   0\n",
      "name                                 0\n",
      "host_id                              0\n",
      "host_name                            0\n",
      "neighbourhood                        0\n",
      "latitude                             0\n",
      "longitude                            0\n",
      "room_type                            0\n",
      "price                                0\n",
      "minimum_nights                       0\n",
      "number_of_reviews                    0\n",
      "last_review                       1090\n",
      "reviews_per_month                    0\n",
      "calculated_host_listings_count       0\n",
      "availability_365                     0\n",
      "number_of_reviews_ltm                0\n",
      "license                             94\n",
      "dtype: int64\n"
     ]
    }
   ],
   "source": [
    "#Impute review related columns\n",
    "review_columns = ['reviews_per_month', 'number_of_reviews_ltm']\n",
    "\n",
    "for col in review_columns:\n",
    "    listings[col] = listings[col].fillna(listings[col].median())\n",
    "\n",
    "# Verify missing values after imputation\n",
    "print(\"\\nMissing values after imputation:\")\n",
    "print(listings.isnull().sum())"
   ]
  }
 ],
 "metadata": {
  "kernelspec": {
   "display_name": "Python 3",
   "language": "python",
   "name": "python3"
  },
  "language_info": {
   "codemirror_mode": {
    "name": "ipython",
    "version": 3
   },
   "file_extension": ".py",
   "mimetype": "text/x-python",
   "name": "python",
   "nbconvert_exporter": "python",
   "pygments_lexer": "ipython3",
   "version": "3.9.6"
  }
 },
 "nbformat": 4,
 "nbformat_minor": 2
}
